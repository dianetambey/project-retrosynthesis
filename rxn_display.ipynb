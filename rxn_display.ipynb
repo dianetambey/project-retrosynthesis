{
 "cells": [
  {
   "cell_type": "code",
   "execution_count": 3,
   "id": "92412615-b7bd-49f6-b24e-9ebd1a0a9b89",
   "metadata": {},
   "outputs": [
    {
     "name": "stderr",
     "output_type": "stream",
     "text": [
      "[21:22:20] mapped atoms in the reactants were not mapped in the products.\n",
      "  unmapped numbers are: 3 \n"
     ]
    },
    {
     "ename": "ValueError",
     "evalue": "ChemicalParserException: Number of reactants provided does not match number of reactant templates.",
     "output_type": "error",
     "traceback": [
      "\u001b[1;31m---------------------------------------------------------------------------\u001b[0m",
      "\u001b[1;31mValueError\u001b[0m                                Traceback (most recent call last)",
      "Cell \u001b[1;32mIn[3], line 20\u001b[0m\n\u001b[0;32m     17\u001b[0m solvent \u001b[38;5;241m=\u001b[39m Chem\u001b[38;5;241m.\u001b[39mMolFromSmiles(\u001b[38;5;124m'\u001b[39m\u001b[38;5;124mO\u001b[39m\u001b[38;5;124m'\u001b[39m)\n\u001b[0;32m     19\u001b[0m \u001b[38;5;66;03m# Run the reaction with solvent\u001b[39;00m\n\u001b[1;32m---> 20\u001b[0m reactant_mols \u001b[38;5;241m=\u001b[39m \u001b[43mreaction\u001b[49m\u001b[38;5;241;43m.\u001b[39;49m\u001b[43mRunReactants\u001b[49m\u001b[43m(\u001b[49m\u001b[43m(\u001b[49m\u001b[43mreactants\u001b[49m\u001b[43m[\u001b[49m\u001b[38;5;241;43m0\u001b[39;49m\u001b[43m]\u001b[49m\u001b[43m,\u001b[49m\u001b[43m \u001b[49m\u001b[43mreactants\u001b[49m\u001b[43m[\u001b[49m\u001b[38;5;241;43m1\u001b[39;49m\u001b[43m]\u001b[49m\u001b[43m,\u001b[49m\u001b[43m \u001b[49m\u001b[43msolvent\u001b[49m\u001b[43m)\u001b[49m\u001b[43m)\u001b[49m\n\u001b[0;32m     22\u001b[0m \u001b[38;5;66;03m# Draw molecules\u001b[39;00m\n\u001b[0;32m     23\u001b[0m img \u001b[38;5;241m=\u001b[39m Draw\u001b[38;5;241m.\u001b[39mReactionToImage(reaction, subImgSize\u001b[38;5;241m=\u001b[39m(\u001b[38;5;241m300\u001b[39m, \u001b[38;5;241m200\u001b[39m), highlightByReactant\u001b[38;5;241m=\u001b[39m\u001b[38;5;28;01mTrue\u001b[39;00m, drawOptions\u001b[38;5;241m=\u001b[39m{\u001b[38;5;124m'\u001b[39m\u001b[38;5;124msolventFontSize\u001b[39m\u001b[38;5;124m'\u001b[39m: \u001b[38;5;241m0.7\u001b[39m})\n",
      "\u001b[1;31mValueError\u001b[0m: ChemicalParserException: Number of reactants provided does not match number of reactant templates."
     ]
    }
   ],
   "source": [
    "from rdkit import Chem\n",
    "from rdkit.Chem import Draw\n",
    "from rdkit.Chem import AllChem\n",
    "\n",
    "# Define reactants and products as SMILES strings\n",
    "reactant_smiles = ['CCO', 'CCN']\n",
    "product_smiles = ['CC(=O)O', 'CC(=O)N']\n",
    "\n",
    "# Convert SMILES to RDKit molecule objects\n",
    "reactants = [Chem.MolFromSmiles(smiles) for smiles in reactant_smiles]\n",
    "products = [Chem.MolFromSmiles(smiles) for smiles in product_smiles]\n",
    "\n",
    "# Generate reaction\n",
    "reaction = AllChem.ReactionFromSmarts('[O:1]=[C:2][O:3].[N:4]>>[O:1]=[C:2][N:4]')\n",
    "\n",
    "# Add solvent\n",
    "solvent = Chem.MolFromSmiles('O')\n",
    "\n",
    "# Run the reaction with solvent\n",
    "reactant_mols = reaction.RunReactants((reactants[0], reactants[1], solvent))\n",
    "\n",
    "# Draw molecules\n",
    "img = Draw.ReactionToImage(reaction, subImgSize=(300, 200), highlightByReactant=True, drawOptions={'solventFontSize': 0.7})\n",
    "\n",
    "# Display image\n",
    "img.show()\n"
   ]
  },
  {
   "cell_type": "code",
   "execution_count": null,
   "id": "5004df7b-f518-407a-b0b5-8d766d6faca0",
   "metadata": {},
   "outputs": [],
   "source": []
  },
  {
   "cell_type": "code",
   "execution_count": null,
   "id": "6ed5d0df-2c62-4264-b8d5-dc5fef34e5cb",
   "metadata": {},
   "outputs": [],
   "source": []
  }
 ],
 "metadata": {
  "kernelspec": {
   "display_name": "Python 3 (ipykernel)",
   "language": "python",
   "name": "python3"
  },
  "language_info": {
   "codemirror_mode": {
    "name": "ipython",
    "version": 3
   },
   "file_extension": ".py",
   "mimetype": "text/x-python",
   "name": "python",
   "nbconvert_exporter": "python",
   "pygments_lexer": "ipython3",
   "version": "3.10.13"
  }
 },
 "nbformat": 4,
 "nbformat_minor": 5
}
