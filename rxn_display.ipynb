{
 "cells": [
  {
   "cell_type": "code",
   "execution_count": 3,
   "id": "92412615-b7bd-49f6-b24e-9ebd1a0a9b89",
   "metadata": {},
   "outputs": [
    {
     "name": "stderr",
     "output_type": "stream",
     "text": [
      "[13:19:25] product 1 has no mapped atoms.\n",
      "[13:19:25] mapped atoms in the reactants were not mapped in the products.\n",
      "  unmapped numbers are: 3 \n"
     ]
    },
    {
     "ename": "ArgumentError",
     "evalue": "Python argument types in\n    MolDraw2D.SetDrawOptions(MolDraw2DCairo, dict)\ndid not match C++ signature:\n    SetDrawOptions(class RDKit::MolDraw2D {lvalue} self, struct RDKit::MolDrawOptions opts)",
     "output_type": "error",
     "traceback": [
      "\u001b[1;31m---------------------------------------------------------------------------\u001b[0m",
      "\u001b[1;31mArgumentError\u001b[0m                             Traceback (most recent call last)",
      "Cell \u001b[1;32mIn[3], line 20\u001b[0m\n\u001b[0;32m     17\u001b[0m reactant_mols \u001b[38;5;241m=\u001b[39m reaction\u001b[38;5;241m.\u001b[39mRunReactants((reactants[\u001b[38;5;241m0\u001b[39m], reactants[\u001b[38;5;241m1\u001b[39m]))\n\u001b[0;32m     19\u001b[0m \u001b[38;5;66;03m# Draw molecules\u001b[39;00m\n\u001b[1;32m---> 20\u001b[0m img \u001b[38;5;241m=\u001b[39m \u001b[43mDraw\u001b[49m\u001b[38;5;241;43m.\u001b[39;49m\u001b[43mReactionToImage\u001b[49m\u001b[43m(\u001b[49m\u001b[43mreaction\u001b[49m\u001b[43m,\u001b[49m\u001b[43m \u001b[49m\u001b[43msubImgSize\u001b[49m\u001b[38;5;241;43m=\u001b[39;49m\u001b[43m(\u001b[49m\u001b[38;5;241;43m300\u001b[39;49m\u001b[43m,\u001b[49m\u001b[43m \u001b[49m\u001b[38;5;241;43m200\u001b[39;49m\u001b[43m)\u001b[49m\u001b[43m,\u001b[49m\u001b[43m \u001b[49m\u001b[43mhighlightByReactant\u001b[49m\u001b[38;5;241;43m=\u001b[39;49m\u001b[38;5;28;43;01mTrue\u001b[39;49;00m\u001b[43m,\u001b[49m\u001b[43m \u001b[49m\u001b[43mdrawOptions\u001b[49m\u001b[38;5;241;43m=\u001b[39;49m\u001b[43m{\u001b[49m\u001b[38;5;124;43m'\u001b[39;49m\u001b[38;5;124;43msolventFontSize\u001b[39;49m\u001b[38;5;124;43m'\u001b[39;49m\u001b[43m:\u001b[49m\u001b[43m \u001b[49m\u001b[38;5;241;43m0.7\u001b[39;49m\u001b[43m}\u001b[49m\u001b[43m)\u001b[49m\n\u001b[0;32m     22\u001b[0m \u001b[38;5;66;03m# Display image\u001b[39;00m\n\u001b[0;32m     23\u001b[0m img\u001b[38;5;241m.\u001b[39mshow()\n",
      "File \u001b[1;32m~\\miniconda3\\envs\\ppchem\\lib\\site-packages\\rdkit\\Chem\\Draw\\__init__.py:872\u001b[0m, in \u001b[0;36mReactionToImage\u001b[1;34m(rxn, subImgSize, useSVG, drawOptions, returnPNG, **kwargs)\u001b[0m\n\u001b[0;32m    870\u001b[0m   d \u001b[38;5;241m=\u001b[39m rdMolDraw2D\u001b[38;5;241m.\u001b[39mMolDraw2DCairo(width, subImgSize[\u001b[38;5;241m1\u001b[39m])\n\u001b[0;32m    871\u001b[0m \u001b[38;5;28;01mif\u001b[39;00m drawOptions \u001b[38;5;129;01mis\u001b[39;00m \u001b[38;5;129;01mnot\u001b[39;00m \u001b[38;5;28;01mNone\u001b[39;00m:\n\u001b[1;32m--> 872\u001b[0m   \u001b[43md\u001b[49m\u001b[38;5;241;43m.\u001b[39;49m\u001b[43mSetDrawOptions\u001b[49m\u001b[43m(\u001b[49m\u001b[43mdrawOptions\u001b[49m\u001b[43m)\u001b[49m\n\u001b[0;32m    873\u001b[0m d\u001b[38;5;241m.\u001b[39mDrawReaction(rxn, \u001b[38;5;241m*\u001b[39m\u001b[38;5;241m*\u001b[39mkwargs)\n\u001b[0;32m    874\u001b[0m d\u001b[38;5;241m.\u001b[39mFinishDrawing()\n",
      "\u001b[1;31mArgumentError\u001b[0m: Python argument types in\n    MolDraw2D.SetDrawOptions(MolDraw2DCairo, dict)\ndid not match C++ signature:\n    SetDrawOptions(class RDKit::MolDraw2D {lvalue} self, struct RDKit::MolDrawOptions opts)"
     ]
    }
   ],
   "source": [
    "from rdkit import Chem\n",
    "from rdkit.Chem import Draw\n",
    "from rdkit.Chem import AllChem\n",
    "\n",
    "# Define reactants and products as SMILES strings\n",
    "reactant_smiles = ['CCO', 'CCN']\n",
    "product_smiles = ['CC(=O)O', 'CC(=O)N']\n",
    "\n",
    "# Convert SMILES to RDKit molecule objects\n",
    "reactants = [Chem.MolFromSmiles(smiles) for smiles in reactant_smiles]\n",
    "products = [Chem.MolFromSmiles(smiles) for smiles in product_smiles]\n",
    "\n",
    "# Generate reaction with solvent\n",
    "reaction = AllChem.ReactionFromSmarts('[O:1]=[C:2][O:3].[N:4]>>[O:1]=[C:2][N:4].O')\n",
    "\n",
    "# Run the reaction\n",
    "reactant_mols = reaction.RunReactants((reactants[0], reactants[1]))\n",
    "\n",
    "# Draw molecules\n",
    "img = Draw.ReactionToImage(reaction, subImgSize=(300, 200), highlightByReactant=True, drawOptions={'solventFontSize': 0.7})\n",
    "\n",
    "# Display image\n",
    "img.show()\n",
    "\n"
   ]
  },
  {
   "cell_type": "code",
   "execution_count": null,
   "id": "5004df7b-f518-407a-b0b5-8d766d6faca0",
   "metadata": {},
   "outputs": [],
   "source": []
  },
  {
   "cell_type": "code",
   "execution_count": null,
   "id": "6ed5d0df-2c62-4264-b8d5-dc5fef34e5cb",
   "metadata": {},
   "outputs": [],
   "source": []
  }
 ],
 "metadata": {
  "kernelspec": {
   "display_name": "Python 3 (ipykernel)",
   "language": "python",
   "name": "python3"
  },
  "language_info": {
   "codemirror_mode": {
    "name": "ipython",
    "version": 3
   },
   "file_extension": ".py",
   "mimetype": "text/x-python",
   "name": "python",
   "nbconvert_exporter": "python",
   "pygments_lexer": "ipython3",
   "version": "3.10.13"
  }
 },
 "nbformat": 4,
 "nbformat_minor": 5
}
