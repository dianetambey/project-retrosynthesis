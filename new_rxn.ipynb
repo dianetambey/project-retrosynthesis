{
 "cells": [
  {
   "cell_type": "code",
   "execution_count": 12,
   "id": "423584f1-4b1e-4af2-8fba-d7bd9af32f50",
   "metadata": {},
   "outputs": [
    {
     "name": "stdout",
     "output_type": "stream",
     "text": [
      "OK\n"
     ]
    }
   ],
   "source": [
    "from rdkit import Chem\n",
    "from itertools import chain\n",
    "from rdkit.Chem import AllChem\n",
    "from rdkit.Chem import Draw\n",
    "from rdkit.Chem.Draw import IPythonConsole\n",
    "IPythonConsole.ipython_useSVG=True\n",
    "\n",
    "mol_smiles = 'CCC(=O)C(CCC)(C)CCCCCC'\n",
    "mol = Chem.MolFromSmiles(mol_smiles)\n",
    "\n",
    "\n",
    "\n",
    "if mol.HasSubstructMatch(Chem.MolFromSmarts('[C^3][C^3]([C^3])([C^3])[C](=[O])[CH2^3][C^3]')):\n",
    "    print(\"OK\")\n",
    "else:\n",
    "    print(\"No\")\n"
   ]
  },
  {
   "cell_type": "code",
   "execution_count": null,
   "id": "44666426-e79d-4e21-a60c-d9c08e6ac2c5",
   "metadata": {},
   "outputs": [],
   "source": []
  },
  {
   "cell_type": "code",
   "execution_count": null,
   "id": "24a2763e-d5cb-4fd6-a436-6727a1e49f24",
   "metadata": {},
   "outputs": [],
   "source": []
  }
 ],
 "metadata": {
  "kernelspec": {
   "display_name": "Python 3 (ipykernel)",
   "language": "python",
   "name": "python3"
  },
  "language_info": {
   "codemirror_mode": {
    "name": "ipython",
    "version": 3
   },
   "file_extension": ".py",
   "mimetype": "text/x-python",
   "name": "python",
   "nbconvert_exporter": "python",
   "pygments_lexer": "ipython3",
   "version": "3.10.13"
  }
 },
 "nbformat": 4,
 "nbformat_minor": 5
}
