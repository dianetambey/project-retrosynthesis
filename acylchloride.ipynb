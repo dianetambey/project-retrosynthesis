{
 "cells": [
  {
   "cell_type": "code",
   "execution_count": null,
   "id": "d6d02b36-e671-4dc5-9646-93aeb439b599",
   "metadata": {},
   "outputs": [],
   "source": [
    "def acyl_chloride_disconnection (mol: Chem.rdchem.Mol) ->int:\n",
    "\n",
    "    '''\n",
    "    The function receives a mol object and verrifes if a C(sp2 hybridized)=O(Cl) bond is present\n",
    "    If yes, the reactants from which the bond could be formed: \n",
    "    a carbonyl acid in the presence of SOCl2 are displayed and 1 is returned\n",
    "    If the Cl is bonded to two identical bond matches, \n",
    "    there are two possible disconnections for each Cl atom.\n",
    "    If the molecule has a certain symmetry, the number of disconnections is reduced.\n",
    "    If the bond is not present, the function returns 0.\n",
    "    '''\n",
    "    \n",
    "    if mol.HasSubstructMatch(Chem.MolFromSmarts('C[^2]=O[Cl]')): #Verifies if the C(sp2 hybridized)=O(Cl) is present\n",
    "        print (f\"Acyl chloride disconnection available\")\n",
    "        print (f\"--------------------------------------\")\n",
    "        carbonyl_smiles = 'O'\n",
    "        Chloro_smiles='[Cl]'\n",
    "        SOCl2_smiles ='Cl[S](Cl)=O'\n",
    "        carbonyl = Chem.MolFromSmiles(carbonyl_smiles)\n",
    "        Chloro = Chem.MolFromSmiles(Chloro_smiles)\n",
    "        SOCl2 = Chem.MolFromSmiles(SOCl2_smiles)\n",
    "        rxn = AllChem.ReactionFromSmarts('[C^3:1]=[O:2][Cl:3].[O:4]>>[C^2]=[O:2][O:4].[Cl:3]') #Searches for the bond pattern and returns reactants\n",
    "        reactants = unique_list_reactants(rxn.RunReactants((mol,SOCl2 )))#to make the bond in a list of lists; each list = reactive site\n",
    "        opt = 1 #Parameter to count the number of possible reactants that form C(sp3 hybridized)-S bonds\n",
    "        for r in reactants: #Prints the reactants\n",
    "            print(f\"Option {opt}\")\n",
    "            reactant_1 = [r[0]]\n",
    "            reactant_2 = [SOCl2]\n",
    "            print(f\"Reactant 1\")\n",
    "            display(Draw.MolsToGridImage(reactant_1))\n",
    "            print(f\"Reactant 2\")\n",
    "            display(Draw.MolsToGridImage(reactant_2))\n",
    "            opt += 1\n",
    "            print (f\"--------------------------------------\")\n",
    "        print (f\"--------------------------------------\")\n",
    "        return 1\n",
    "    return 0"
   ]
  }
 ],
 "metadata": {
  "kernelspec": {
   "display_name": "Python 3 (ipykernel)",
   "language": "python",
   "name": "python3"
  },
  "language_info": {
   "codemirror_mode": {
    "name": "ipython",
    "version": 3
   },
   "file_extension": ".py",
   "mimetype": "text/x-python",
   "name": "python",
   "nbconvert_exporter": "python",
   "pygments_lexer": "ipython3",
   "version": "3.10.13"
  }
 },
 "nbformat": 4,
 "nbformat_minor": 5
}
