{
 "cells": [
  {
   "cell_type": "code",
   "execution_count": null,
   "id": "81ee9780-4d2a-41c7-b94c-0b66d50cf5de",
   "metadata": {},
   "outputs": [],
   "source": [
    "def grignard_disconnection (mol: Chem.rdchem.Mol) ->int:\n",
    "\n",
    "    '''\n",
    "    The function receives a mol object and verrifes if a C(sp3 hybridized)-O bond is present\n",
    "    If yes, the reactants from which the bond could be formed: \n",
    "    a carbonyl and a R-MgBr in the presence of THF are displayed and 1 is returned\n",
    "    If the O atom is bonded to two C(sp3 hybridized) atoms, \n",
    "    there are two possible disconnections for each O atom.\n",
    "    If the molecule has a certain symmetry, the number of disconnections is reduced.\n",
    "    If the bond is not present, the function returns 0.\n",
    "    '''\n",
    "    \n",
    "    if mol.HasSubstructMatch(Chem.MolFromSmarts('[C^3]O')): #Verifies if the C(sp3 hybridized)-O is present\n",
    "        print (f\"Grignard disconnection available\")\n",
    "        print (f\"--------------------------------------\")\n",
    "        MgBr_smiles='[Mg].[Br]'\n",
    "        O_smiles='O'\n",
    "        THF_smiles='C1CCOC1'\n",
    "        MgBr = Chem.MolFromSmiles(MgBr_smiles)\n",
    "        O = Chem.MolFromSmiles(O_smiles)\n",
    "        THF = Chem.MolFromSmiles(THF_smiles)\n",
    "        rxn = AllChem.ReactionFromSmarts('[C^3:1][O:2][C^3:2].[Mg][Br]>>[C^2:1]=[O:2].[C^3:1][Mg][Br]') #creates carbonyl and reactant\n",
    "        reactants = unique_list_reactants(rxn.RunReactants((mol))) #to make the bond in a list of lists; each list = reactive site\n",
    "        opt = 1 #Parameter to count the number of possible reactants that form C(sp3 hybridized)-O bonds\n",
    "        for r in reactants: #Prints the reactants\n",
    "            print(f\"Option {opt}\")\n",
    "            reactant_1 = [r[0]]\n",
    "            reactant_2 = [r[1]]\n",
    "            print(f\"Reactant 1\")\n",
    "            display(Draw.MolsToGridImage(reactant_1))\n",
    "            print(f\"Reactant 2\")\n",
    "            display(Draw.MolsToGridImage(reactant_2))\n",
    "            opt += 1\n",
    "            print (f\"--------------------------------------\")\n",
    "        print(f\"--------------------------------------\")\n",
    "        print (f\"Solvent: THF\")\n",
    "        print (f\"--------------------------------------\")\n",
    "        return 1\n",
    "    return 0"
   ]
  }
 ],
 "metadata": {
  "kernelspec": {
   "display_name": "Python 3 (ipykernel)",
   "language": "python",
   "name": "python3"
  },
  "language_info": {
   "codemirror_mode": {
    "name": "ipython",
    "version": 3
   },
   "file_extension": ".py",
   "mimetype": "text/x-python",
   "name": "python",
   "nbconvert_exporter": "python",
   "pygments_lexer": "ipython3",
   "version": "3.10.13"
  }
 },
 "nbformat": 4,
 "nbformat_minor": 5
}
