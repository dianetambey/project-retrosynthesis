{
 "cells": [
  {
   "cell_type": "code",
   "execution_count": null,
   "id": "e5994cd2-35c9-41e3-b048-336ada9edede",
   "metadata": {},
   "outputs": [],
   "source": [
    "def amine_disconnection (mol: Chem.rdchem.Mol) ->int:\n",
    "\n",
    "    '''\n",
    "    The function receives a mol object and verrifes if a C(sp3 hybridized)-N bond is present\n",
    "    If yes, the reactants from which the bond could be formed: \n",
    "    an amine and a chloric carbonyl in the presence of LiAlH4 are displayed and 1 is returned\n",
    "    If the N is bonded to two identical bond matches, \n",
    "    there are two possible disconnections for each N atom.\n",
    "    If the molecule has a certain symmetry, the number of disconnections is reduced.\n",
    "    If the bond is not present, the function returns 0.\n",
    "    '''\n",
    "    \n",
    "    if mol.HasSubstructMatch(Chem.MolFromSmarts('[C^3][N]')): #Verifies if the C(sp3 hybridized)-N is present\n",
    "        print (f\"Amine disconnection available\")\n",
    "        print (f\"--------------------------------------\")\n",
    "        carbonyl_smiles = 'O'\n",
    "        Chloro_smiles='[Cl]'\n",
    "        LiAlH4_smiles ='C(=O)([O-])[O-].[K+].[K+]'\n",
    "        carbonyl = Chem.MolFromSmiles(carbonyl_smiles)\n",
    "        Chloro = Chem.MolFromSmiles(Chloro_smiles)\n",
    "        LiAlH4 = Chem.MolFromSmiles(LiAlH4_smiles)\n",
    "        rxn = AllChem.ReactionFromSmarts('[N:1][C^3:2].[Cl:3][O:4]>>[N:1].[C^2](=[O:4])[Cl]') #Searches for the bond pattern and returns reactants\n",
    "        reactants = unique_list_reactants(rxn.RunReactants((mol,LiAlH4 )))#to make the bond in a list of lists; each list = reactive site\n",
    "        opt = 1 #Parameter to count the number of possible reactants that form C(sp3 hybridized)-S bonds\n",
    "        for r in reactants: #Prints the reactants\n",
    "            print(f\"Option {opt}\")\n",
    "            reactant_1 = [r[0]]\n",
    "            reactant_2 = [r[1], LiAlH4]\n",
    "            print(f\"Reactant 1\")\n",
    "            display(Draw.MolsToGridImage(reactant_1))\n",
    "            print(f\"Reactant 2\")\n",
    "            display(Draw.MolsToGridImage(reactant_2))\n",
    "            opt += 1\n",
    "            print (f\"--------------------------------------\")\n",
    "        print(f\"--------------------------------------\")\n",
    "        print (f\"This product needs to be reduced using LiAlH4\" #The molecule obtained form the reactants is an intermediate that needs to be reduced\n",
    "               f\" in order to obtain the target molecule\")\n",
    "        print (f\"--------------------------------------\")\n",
    "        return 1\n",
    "    return 0"
   ]
  }
 ],
 "metadata": {
  "kernelspec": {
   "display_name": "Python 3 (ipykernel)",
   "language": "python",
   "name": "python3"
  },
  "language_info": {
   "codemirror_mode": {
    "name": "ipython",
    "version": 3
   },
   "file_extension": ".py",
   "mimetype": "text/x-python",
   "name": "python",
   "nbconvert_exporter": "python",
   "pygments_lexer": "ipython3",
   "version": "3.10.13"
  }
 },
 "nbformat": 4,
 "nbformat_minor": 5
}
