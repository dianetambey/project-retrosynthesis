{
 "cells": [
  {
   "cell_type": "code",
   "execution_count": null,
   "id": "53f026d2-0b9a-4a81-84e3-da0bce92ba69",
   "metadata": {},
   "outputs": [],
   "source": [
    "def wittig_disconnection (mol: Chem.rdchem.Mol) ->int:\n",
    "\n",
    "    '''\n",
    "    The function receives a mol object and verrifes if a C=C bond is present\n",
    "    If yes, the reactants from which the bond could be formed: \n",
    "    a carbonyl, C-Br and PPh3 a thiol in the presence of BuLi are displayed and 1 is returned\n",
    "    If there are 2 C=C bonds, \n",
    "    there are two possible disconnections for each.\n",
    "    If the molecule has a certain symmetry, the number of disconnections is reduced.\n",
    "    If the bond is not present, the function returns 0.\n",
    "    '''\n",
    "    \n",
    "    if mol.HasSubstructMatch(Chem.MolFromSmarts('C=C')):  #Verifies if the C=C bond is present\n",
    "        print (f\"Wittig disconnection available\")\n",
    "        print (f\"--------------------------------------\")\n",
    "        BuLi_smiles = '[Li]CCCC'\n",
    "        PPh3_smiles='c1ccc(cc1)P(c2ccccc2)c3ccccc3'\n",
    "        O_smiles='O'\n",
    "        Br_smiles='[Br]'\n",
    "        BuLi = Chem.MolFromSmiles(BuLi_smiles)\n",
    "        PPh3 = Chem.MolFromSmiles(PPh3_smiles)\n",
    "        O = Chem.MolFromSmiles(O_smiles)\n",
    "        Br = Chem.MolFromSmiles(Br_smiles)\n",
    "        rxn = AllChem.ReactionFromSmarts('[C:1]=[C:2].[O:3].[Br:4]>>[C:1]=[O:3].[C:2][Br:4]') #Searches for the bond pattern and returns reactants\n",
    "        reactants = unique_list_reactants(rxn.RunReactants((mol,BuLi,PPh3 ))) #to make the bond in a list of lists; each list = reactive site\n",
    "        opt = 1 #Parameter to count the number of possible reactants that form C(sp3 hybridized)-S bonds\n",
    "        for r in reactants: #Prints the reactants\n",
    "            print(f\"Option {opt}\")\n",
    "            reactant_1 = [r[0]]\n",
    "            reactant_2 = [r[1]]\n",
    "            print(f\"Reactant 1\")\n",
    "            display(Draw.MolsToGridImage(reactant_1))\n",
    "            print(f\"Reactant 2\")\n",
    "            display(Draw.MolsToGridImage(reactant_2,BuLi,PPh3))\n",
    "            opt += 1\n",
    "            print (f\"--------------------------------------\")\n",
    "        print(f\"--------------------------------------\")\n",
    "        return 1\n",
    "    return 0"
   ]
  }
 ],
 "metadata": {
  "kernelspec": {
   "display_name": "Python 3 (ipykernel)",
   "language": "python",
   "name": "python3"
  },
  "language_info": {
   "codemirror_mode": {
    "name": "ipython",
    "version": 3
   },
   "file_extension": ".py",
   "mimetype": "text/x-python",
   "name": "python",
   "nbconvert_exporter": "python",
   "pygments_lexer": "ipython3",
   "version": "3.10.13"
  }
 },
 "nbformat": 4,
 "nbformat_minor": 5
}
