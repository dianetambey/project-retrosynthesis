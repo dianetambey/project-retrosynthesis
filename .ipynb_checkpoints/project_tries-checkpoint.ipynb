{
 "cells": [
  {
   "cell_type": "code",
   "execution_count": 43,
   "id": "67e5ee68-4600-46f6-92f9-fdd8de6fe93e",
   "metadata": {},
   "outputs": [
    {
     "name": "stdout",
     "output_type": "stream",
     "text": [
      "The molecule inserted looks like this:\n"
     ]
    },
    {
     "data": {
      "image/png": "[encoded data removed]",
      "image/svg+xml": [
       "<?xml version='1.0' encoding='iso-8859-1'?>\n",
       "<svg version='1.1' baseProfile='full'\n",
       "              xmlns='http://www.w3.org/2000/svg'\n",
       "                      xmlns:rdkit='http://www.rdkit.org/xml'\n",
       "                      xmlns:xlink='http://www.w3.org/1999/xlink'\n",
       "                  xml:space='preserve'\n",
       "width='450px' height='150px' viewBox='0 0 450 150'>\n",
       "<!-- END OF HEADER -->\n",
       "<rect style='opacity:1.0;fill:#FFFFFF;stroke:none' width='450.0' height='150.0' x='0.0' y='0.0'> </rect>\n",
       "<path class='bond-0 atom-0 atom-1' d='M 22.5,88.7 L 90.0,49.7' style='fill:none;fill-rule:evenodd;stroke:#000000;stroke-width:2.0px;stroke-linecap:butt;stroke-linejoin:miter;stroke-opacity:1' />\n",
       "<path class='bond-1 atom-1 atom-2' d='M 90.0,49.7 L 118.9,66.4' style='fill:none;fill-rule:evenodd;stroke:#000000;stroke-width:2.0px;stroke-linecap:butt;stroke-linejoin:miter;stroke-opacity:1' />\n",
       "<path class='bond-1 atom-1 atom-2' d='M 118.9,66.4 L 147.9,83.1' style='fill:none;fill-rule:evenodd;stroke:#CCCC00;stroke-width:2.0px;stroke-linecap:butt;stroke-linejoin:miter;stroke-opacity:1' />\n",
       "<path class='bond-2 atom-2 atom-3' d='M 167.1,83.1 L 196.1,66.4' style='fill:none;fill-rule:evenodd;stroke:#CCCC00;stroke-width:2.0px;stroke-linecap:butt;stroke-linejoin:miter;stroke-opacity:1' />\n",
       "<path class='bond-2 atom-2 atom-3' d='M 196.1,66.4 L 225.0,49.7' style='fill:none;fill-rule:evenodd;stroke:#000000;stroke-width:2.0px;stroke-linecap:butt;stroke-linejoin:miter;stroke-opacity:1' />\n",
       "<path class='bond-3 atom-3 atom-4' d='M 225.0,49.7 L 292.5,88.7' style='fill:none;fill-rule:evenodd;stroke:#000000;stroke-width:2.0px;stroke-linecap:butt;stroke-linejoin:miter;stroke-opacity:1' />\n",
       "<path class='bond-4 atom-4 atom-5' d='M 292.5,88.7 L 360.0,49.7' style='fill:none;fill-rule:evenodd;stroke:#000000;stroke-width:2.0px;stroke-linecap:butt;stroke-linejoin:miter;stroke-opacity:1' />\n",
       "<path class='bond-5 atom-5 atom-6' d='M 360.0,49.7 L 427.5,88.7' style='fill:none;fill-rule:evenodd;stroke:#000000;stroke-width:2.0px;stroke-linecap:butt;stroke-linejoin:miter;stroke-opacity:1' />\n",
       "<path d='M 86.6,51.7 L 90.0,49.7 L 91.4,50.6' style='fill:none;stroke:#000000;stroke-width:2.0px;stroke-linecap:butt;stroke-linejoin:miter;stroke-opacity:1;' />\n",
       "<path d='M 223.6,50.6 L 225.0,49.7 L 228.4,51.7' style='fill:none;stroke:#000000;stroke-width:2.0px;stroke-linecap:butt;stroke-linejoin:miter;stroke-opacity:1;' />\n",
       "<path d='M 289.1,86.7 L 292.5,88.7 L 295.9,86.7' style='fill:none;stroke:#000000;stroke-width:2.0px;stroke-linecap:butt;stroke-linejoin:miter;stroke-opacity:1;' />\n",
       "<path d='M 356.6,51.7 L 360.0,49.7 L 363.4,51.7' style='fill:none;stroke:#000000;stroke-width:2.0px;stroke-linecap:butt;stroke-linejoin:miter;stroke-opacity:1;' />\n",
       "<path class='atom-2' d='M 151.3 96.3\n",
       "Q 151.5 96.4, 152.5 96.8\n",
       "Q 153.6 97.2, 154.7 97.5\n",
       "Q 155.8 97.8, 157.0 97.8\n",
       "Q 159.1 97.8, 160.3 96.8\n",
       "Q 161.5 95.7, 161.5 94.0\n",
       "Q 161.5 92.7, 160.9 92.0\n",
       "Q 160.3 91.2, 159.3 90.8\n",
       "Q 158.4 90.4, 156.8 90.0\n",
       "Q 154.9 89.4, 153.7 88.8\n",
       "Q 152.5 88.3, 151.7 87.1\n",
       "Q 150.9 85.9, 150.9 83.9\n",
       "Q 150.9 81.1, 152.8 79.4\n",
       "Q 154.7 77.7, 158.4 77.7\n",
       "Q 161.0 77.7, 163.9 78.9\n",
       "L 163.1 81.3\n",
       "Q 160.5 80.2, 158.5 80.2\n",
       "Q 156.3 80.2, 155.2 81.1\n",
       "Q 154.0 82.0, 154.0 83.5\n",
       "Q 154.0 84.7, 154.6 85.4\n",
       "Q 155.2 86.1, 156.1 86.5\n",
       "Q 157.0 86.9, 158.5 87.4\n",
       "Q 160.5 88.0, 161.7 88.7\n",
       "Q 162.9 89.3, 163.7 90.6\n",
       "Q 164.6 91.8, 164.6 94.0\n",
       "Q 164.6 97.0, 162.5 98.7\n",
       "Q 160.5 100.3, 157.1 100.3\n",
       "Q 155.1 100.3, 153.6 99.8\n",
       "Q 152.2 99.4, 150.4 98.7\n",
       "L 151.3 96.3\n",
       "' fill='#CCCC00'/>\n",
       "</svg>\n"
      ],
      "text/html": [
       "<?xml version='1.0' encoding='iso-8859-1'?>\n",
       "<svg version='1.1' baseProfile='full'\n",
       "              xmlns='http://www.w3.org/2000/svg'\n",
       "                      xmlns:rdkit='http://www.rdkit.org/xml'\n",
       "                      xmlns:xlink='http://www.w3.org/1999/xlink'\n",
       "                  xml:space='preserve'\n",
       "width='450px' height='150px' viewBox='0 0 450 150'>\n",
       "<!-- END OF HEADER -->\n",
       "<rect style='opacity:1.0;fill:#FFFFFF;stroke:none' width='450.0' height='150.0' x='0.0' y='0.0'> </rect>\n",
       "<path class='bond-0 atom-0 atom-1' d='M 22.5,88.7 L 90.0,49.7' style='fill:none;fill-rule:evenodd;stroke:#000000;stroke-width:2.0px;stroke-linecap:butt;stroke-linejoin:miter;stroke-opacity:1' />\n",
       "<path class='bond-1 atom-1 atom-2' d='M 90.0,49.7 L 118.9,66.4' style='fill:none;fill-rule:evenodd;stroke:#000000;stroke-width:2.0px;stroke-linecap:butt;stroke-linejoin:miter;stroke-opacity:1' />\n",
       "<path class='bond-1 atom-1 atom-2' d='M 118.9,66.4 L 147.9,83.1' style='fill:none;fill-rule:evenodd;stroke:#CCCC00;stroke-width:2.0px;stroke-linecap:butt;stroke-linejoin:miter;stroke-opacity:1' />\n",
       "<path class='bond-2 atom-2 atom-3' d='M 167.1,83.1 L 196.1,66.4' style='fill:none;fill-rule:evenodd;stroke:#CCCC00;stroke-width:2.0px;stroke-linecap:butt;stroke-linejoin:miter;stroke-opacity:1' />\n",
       "<path class='bond-2 atom-2 atom-3' d='M 196.1,66.4 L 225.0,49.7' style='fill:none;fill-rule:evenodd;stroke:#000000;stroke-width:2.0px;stroke-linecap:butt;stroke-linejoin:miter;stroke-opacity:1' />\n",
       "<path class='bond-3 atom-3 atom-4' d='M 225.0,49.7 L 292.5,88.7' style='fill:none;fill-rule:evenodd;stroke:#000000;stroke-width:2.0px;stroke-linecap:butt;stroke-linejoin:miter;stroke-opacity:1' />\n",
       "<path class='bond-4 atom-4 atom-5' d='M 292.5,88.7 L 360.0,49.7' style='fill:none;fill-rule:evenodd;stroke:#000000;stroke-width:2.0px;stroke-linecap:butt;stroke-linejoin:miter;stroke-opacity:1' />\n",
       "<path class='bond-5 atom-5 atom-6' d='M 360.0,49.7 L 427.5,88.7' style='fill:none;fill-rule:evenodd;stroke:#000000;stroke-width:2.0px;stroke-linecap:butt;stroke-linejoin:miter;stroke-opacity:1' />\n",
       "<path d='M 86.6,51.7 L 90.0,49.7 L 91.4,50.6' style='fill:none;stroke:#000000;stroke-width:2.0px;stroke-linecap:butt;stroke-linejoin:miter;stroke-opacity:1;' />\n",
       "<path d='M 223.6,50.6 L 225.0,49.7 L 228.4,51.7' style='fill:none;stroke:#000000;stroke-width:2.0px;stroke-linecap:butt;stroke-linejoin:miter;stroke-opacity:1;' />\n",
       "<path d='M 289.1,86.7 L 292.5,88.7 L 295.9,86.7' style='fill:none;stroke:#000000;stroke-width:2.0px;stroke-linecap:butt;stroke-linejoin:miter;stroke-opacity:1;' />\n",
       "<path d='M 356.6,51.7 L 360.0,49.7 L 363.4,51.7' style='fill:none;stroke:#000000;stroke-width:2.0px;stroke-linecap:butt;stroke-linejoin:miter;stroke-opacity:1;' />\n",
       "<path class='atom-2' d='M 151.3 96.3\n",
       "Q 151.5 96.4, 152.5 96.8\n",
       "Q 153.6 97.2, 154.7 97.5\n",
       "Q 155.8 97.8, 157.0 97.8\n",
       "Q 159.1 97.8, 160.3 96.8\n",
       "Q 161.5 95.7, 161.5 94.0\n",
       "Q 161.5 92.7, 160.9 92.0\n",
       "Q 160.3 91.2, 159.3 90.8\n",
       "Q 158.4 90.4, 156.8 90.0\n",
       "Q 154.9 89.4, 153.7 88.8\n",
       "Q 152.5 88.3, 151.7 87.1\n",
       "Q 150.9 85.9, 150.9 83.9\n",
       "Q 150.9 81.1, 152.8 79.4\n",
       "Q 154.7 77.7, 158.4 77.7\n",
       "Q 161.0 77.7, 163.9 78.9\n",
       "L 163.1 81.3\n",
       "Q 160.5 80.2, 158.5 80.2\n",
       "Q 156.3 80.2, 155.2 81.1\n",
       "Q 154.0 82.0, 154.0 83.5\n",
       "Q 154.0 84.7, 154.6 85.4\n",
       "Q 155.2 86.1, 156.1 86.5\n",
       "Q 157.0 86.9, 158.5 87.4\n",
       "Q 160.5 88.0, 161.7 88.7\n",
       "Q 162.9 89.3, 163.7 90.6\n",
       "Q 164.6 91.8, 164.6 94.0\n",
       "Q 164.6 97.0, 162.5 98.7\n",
       "Q 160.5 100.3, 157.1 100.3\n",
       "Q 155.1 100.3, 153.6 99.8\n",
       "Q 152.2 99.4, 150.4 98.7\n",
       "L 151.3 96.3\n",
       "' fill='#CCCC00'/>\n",
       "</svg>\n"
      ],
      "text/plain": [
       "<rdkit.Chem.rdchem.Mol at 0x2c4092e4a50>"
      ]
     },
     "metadata": {},
     "output_type": "display_data"
    },
    {
     "name": "stdout",
     "output_type": "stream",
     "text": [
      "--------------------------------------\n",
      "--------------------------------------\n",
      "C-S disconection available\n",
      "--------------------------------------\n",
      "Option 1\n",
      "Reactant 1\n"
     ]
    },
    {
     "data": {
      "image/svg+xml": [
       "<svg xmlns=\"http://www.w3.org/2000/svg\" xmlns:rdkit=\"http://www.rdkit.org/xml\" xmlns:xlink=\"http://www.w3.org/1999/xlink\" version=\"1.1\" baseProfile=\"full\" xml:space=\"preserve\" width=\"600px\" height=\"200px\" viewBox=\"0 0 600 200\">\n",
       "<!-- END OF HEADER -->\n",
       "<rect style=\"opacity:1.0;fill:#FFFFFF;stroke:none\" width=\"600.0\" height=\"200.0\" x=\"0.0\" y=\"0.0\"> </rect>\n",
       "<path class=\"bond-0 atom-0 atom-1\" d=\"M 10.0,118.6 L 99.0,67.2\" style=\"fill:none;fill-rule:evenodd;stroke:#000000;stroke-width:2.0px;stroke-linecap:butt;stroke-linejoin:miter;stroke-opacity:1\"/>\n",
       "<path class=\"bond-1 atom-1 atom-2\" d=\"M 99.0,67.2 L 140.9,91.4\" style=\"fill:none;fill-rule:evenodd;stroke:#000000;stroke-width:2.0px;stroke-linecap:butt;stroke-linejoin:miter;stroke-opacity:1\"/>\n",
       "<path class=\"bond-1 atom-1 atom-2\" d=\"M 140.9,91.4 L 182.8,115.5\" style=\"fill:none;fill-rule:evenodd;stroke:#A01EEF;stroke-width:2.0px;stroke-linecap:butt;stroke-linejoin:miter;stroke-opacity:1\"/>\n",
       "<path d=\"M 94.6,69.8 L 99.0,67.2 L 101.1,68.4\" style=\"fill:none;stroke:#000000;stroke-width:2.0px;stroke-linecap:butt;stroke-linejoin:miter;stroke-opacity:1;\"/>\n",
       "<path class=\"atom-2\" d=\"M 186.2 104.4 L 190.0 104.4 L 190.0 132.8 L 186.2 132.8 L 186.2 104.4 \" fill=\"#A01EEF\"/>\n",
       "</svg>"
      ],
      "text/plain": [
       "<IPython.core.display.SVG object>"
      ]
     },
     "metadata": {},
     "output_type": "display_data"
    },
    {
     "name": "stdout",
     "output_type": "stream",
     "text": [
      "Reactant 2\n"
     ]
    },
    {
     "data": {
      "image/svg+xml": [
       "<svg xmlns=\"http://www.w3.org/2000/svg\" xmlns:rdkit=\"http://www.rdkit.org/xml\" xmlns:xlink=\"http://www.w3.org/1999/xlink\" version=\"1.1\" baseProfile=\"full\" xml:space=\"preserve\" width=\"600px\" height=\"200px\" viewBox=\"0 0 600 200\">\n",
       "<!-- END OF HEADER -->\n",
       "<rect style=\"opacity:1.0;fill:#FFFFFF;stroke:none\" width=\"600.0\" height=\"200.0\" x=\"0.0\" y=\"0.0\"> </rect>\n",
       "<path class=\"bond-0 atom-0 atom-1\" d=\"M 10.0,108.3 L 50.9,84.7\" style=\"fill:none;fill-rule:evenodd;stroke:#000000;stroke-width:2.0px;stroke-linecap:butt;stroke-linejoin:miter;stroke-opacity:1\"/>\n",
       "<path class=\"bond-1 atom-1 atom-2\" d=\"M 50.9,84.7 L 91.7,108.3\" style=\"fill:none;fill-rule:evenodd;stroke:#000000;stroke-width:2.0px;stroke-linecap:butt;stroke-linejoin:miter;stroke-opacity:1\"/>\n",
       "<path class=\"bond-2 atom-2 atom-3\" d=\"M 91.7,108.3 L 132.6,84.7\" style=\"fill:none;fill-rule:evenodd;stroke:#000000;stroke-width:2.0px;stroke-linecap:butt;stroke-linejoin:miter;stroke-opacity:1\"/>\n",
       "<path class=\"bond-3 atom-3 atom-4\" d=\"M 132.6,84.7 L 150.1,94.8\" style=\"fill:none;fill-rule:evenodd;stroke:#000000;stroke-width:2.0px;stroke-linecap:butt;stroke-linejoin:miter;stroke-opacity:1\"/>\n",
       "<path class=\"bond-3 atom-3 atom-4\" d=\"M 150.1,94.8 L 167.6,104.9\" style=\"fill:none;fill-rule:evenodd;stroke:#CCCC00;stroke-width:2.0px;stroke-linecap:butt;stroke-linejoin:miter;stroke-opacity:1\"/>\n",
       "<path d=\"M 48.8,85.9 L 50.9,84.7 L 52.9,85.9\" style=\"fill:none;stroke:#000000;stroke-width:2.0px;stroke-linecap:butt;stroke-linejoin:miter;stroke-opacity:1;\"/>\n",
       "<path d=\"M 89.7,107.1 L 91.7,108.3 L 93.8,107.1\" style=\"fill:none;stroke:#000000;stroke-width:2.0px;stroke-linecap:butt;stroke-linejoin:miter;stroke-opacity:1;\"/>\n",
       "<path d=\"M 130.5,85.9 L 132.6,84.7 L 133.4,85.2\" style=\"fill:none;stroke:#000000;stroke-width:2.0px;stroke-linecap:butt;stroke-linejoin:miter;stroke-opacity:1;\"/>\n",
       "<path class=\"atom-4\" d=\"M 169.6 112.9 Q 169.8 112.9, 170.4 113.2 Q 171.0 113.5, 171.7 113.6 Q 172.4 113.8, 173.1 113.8 Q 174.4 113.8, 175.1 113.2 Q 175.8 112.6, 175.8 111.5 Q 175.8 110.7, 175.5 110.3 Q 175.1 109.8, 174.5 109.6 Q 174.0 109.4, 173.0 109.1 Q 171.8 108.7, 171.1 108.4 Q 170.4 108.0, 169.9 107.3 Q 169.4 106.6, 169.4 105.4 Q 169.4 103.7, 170.6 102.7 Q 171.7 101.6, 174.0 101.6 Q 175.5 101.6, 177.3 102.4 L 176.8 103.8 Q 175.2 103.2, 174.0 103.2 Q 172.7 103.2, 172.0 103.7 Q 171.3 104.2, 171.3 105.2 Q 171.3 105.9, 171.7 106.3 Q 172.0 106.7, 172.6 107.0 Q 173.1 107.2, 174.0 107.5 Q 175.2 107.9, 176.0 108.3 Q 176.7 108.7, 177.2 109.4 Q 177.7 110.2, 177.7 111.5 Q 177.7 113.3, 176.5 114.3 Q 175.2 115.3, 173.2 115.3 Q 172.0 115.3, 171.1 115.0 Q 170.2 114.8, 169.1 114.4 L 169.6 112.9 \" fill=\"#CCCC00\"/>\n",
       "<path class=\"atom-4\" d=\"M 179.5 101.6 L 181.4 101.6 L 181.4 107.3 L 188.2 107.3 L 188.2 101.6 L 190.0 101.6 L 190.0 115.0 L 188.2 115.0 L 188.2 108.8 L 181.4 108.8 L 181.4 115.0 L 179.5 115.0 L 179.5 101.6 \" fill=\"#CCCC00\"/>\n",
       "<path class=\"bond-0 atom-0 atom-1\" d=\"M 277.8,101.8 L 277.8,122.2\" style=\"fill:none;fill-rule:evenodd;stroke:#000000;stroke-width:2.0px;stroke-linecap:butt;stroke-linejoin:miter;stroke-opacity:1\"/>\n",
       "<path class=\"bond-0 atom-0 atom-1\" d=\"M 277.8,122.2 L 277.8,142.7\" style=\"fill:none;fill-rule:evenodd;stroke:#FF0000;stroke-width:2.0px;stroke-linecap:butt;stroke-linejoin:miter;stroke-opacity:1\"/>\n",
       "<path class=\"bond-0 atom-0 atom-1\" d=\"M 284.9,101.8 L 284.9,122.2\" style=\"fill:none;fill-rule:evenodd;stroke:#000000;stroke-width:2.0px;stroke-linecap:butt;stroke-linejoin:miter;stroke-opacity:1\"/>\n",
       "<path class=\"bond-0 atom-0 atom-1\" d=\"M 284.9,122.2 L 284.9,142.7\" style=\"fill:none;fill-rule:evenodd;stroke:#FF0000;stroke-width:2.0px;stroke-linecap:butt;stroke-linejoin:miter;stroke-opacity:1\"/>\n",
       "<path class=\"bond-1 atom-0 atom-2\" d=\"M 281.3,103.8 L 297.9,94.3\" style=\"fill:none;fill-rule:evenodd;stroke:#000000;stroke-width:2.0px;stroke-linecap:butt;stroke-linejoin:miter;stroke-opacity:1\"/>\n",
       "<path class=\"bond-1 atom-0 atom-2\" d=\"M 297.9,94.3 L 314.5,84.7\" style=\"fill:none;fill-rule:evenodd;stroke:#FF0000;stroke-width:2.0px;stroke-linecap:butt;stroke-linejoin:miter;stroke-opacity:1\"/>\n",
       "<path class=\"bond-2 atom-0 atom-3\" d=\"M 281.3,103.8 L 264.7,94.3\" style=\"fill:none;fill-rule:evenodd;stroke:#000000;stroke-width:2.0px;stroke-linecap:butt;stroke-linejoin:miter;stroke-opacity:1\"/>\n",
       "<path class=\"bond-2 atom-0 atom-3\" d=\"M 264.7,94.3 L 248.2,84.7\" style=\"fill:none;fill-rule:evenodd;stroke:#FF0000;stroke-width:2.0px;stroke-linecap:butt;stroke-linejoin:miter;stroke-opacity:1\"/>\n",
       "<path d=\"M 282.1,103.3 L 281.3,103.8 L 280.5,103.3\" style=\"fill:none;stroke:#000000;stroke-width:2.0px;stroke-linecap:butt;stroke-linejoin:miter;stroke-opacity:1;\"/>\n",
       "<path class=\"atom-1\" d=\"M 275.2 151.0 Q 275.2 147.8, 276.8 146.0 Q 278.4 144.2, 281.3 144.2 Q 284.3 144.2, 285.9 146.0 Q 287.5 147.8, 287.5 151.0 Q 287.5 154.3, 285.8 156.1 Q 284.2 158.0, 281.3 158.0 Q 278.4 158.0, 276.8 156.1 Q 275.2 154.3, 275.2 151.0 M 281.3 156.5 Q 283.4 156.5, 284.5 155.1 Q 285.6 153.7, 285.6 151.0 Q 285.6 148.4, 284.5 147.1 Q 283.4 145.8, 281.3 145.8 Q 279.3 145.8, 278.2 147.1 Q 277.1 148.4, 277.1 151.0 Q 277.1 153.7, 278.2 155.1 Q 279.3 156.5, 281.3 156.5 \" fill=\"#FF0000\"/>\n",
       "<path class=\"atom-2\" d=\"M 316.0 80.3 Q 316.0 77.1, 317.6 75.3 Q 319.2 73.5, 322.2 73.5 Q 325.1 73.5, 326.7 75.3 Q 328.3 77.1, 328.3 80.3 Q 328.3 83.5, 326.7 85.4 Q 325.1 87.2, 322.2 87.2 Q 319.2 87.2, 317.6 85.4 Q 316.0 83.5, 316.0 80.3 M 322.2 85.7 Q 324.2 85.7, 325.3 84.3 Q 326.4 83.0, 326.4 80.3 Q 326.4 77.7, 325.3 76.3 Q 324.2 75.0, 322.2 75.0 Q 320.1 75.0, 319.0 76.3 Q 317.9 77.6, 317.9 80.3 Q 317.9 83.0, 319.0 84.3 Q 320.1 85.7, 322.2 85.7 \" fill=\"#FF0000\"/>\n",
       "<path class=\"atom-2\" d=\"M 330.2 75.7 L 334.8 75.7 L 334.8 76.7 L 330.2 76.7 L 330.2 75.7 \" fill=\"#FF0000\"/>\n",
       "<path class=\"atom-3\" d=\"M 234.3 80.3 Q 234.3 77.1, 235.9 75.3 Q 237.5 73.5, 240.5 73.5 Q 243.4 73.5, 245.0 75.3 Q 246.6 77.1, 246.6 80.3 Q 246.6 83.5, 245.0 85.4 Q 243.4 87.2, 240.5 87.2 Q 237.5 87.2, 235.9 85.4 Q 234.3 83.5, 234.3 80.3 M 240.5 85.7 Q 242.5 85.7, 243.6 84.3 Q 244.7 83.0, 244.7 80.3 Q 244.7 77.7, 243.6 76.3 Q 242.5 75.0, 240.5 75.0 Q 238.4 75.0, 237.3 76.3 Q 236.2 77.6, 236.2 80.3 Q 236.2 83.0, 237.3 84.3 Q 238.4 85.7, 240.5 85.7 \" fill=\"#FF0000\"/>\n",
       "<path class=\"atom-3\" d=\"M 248.5 75.7 L 253.1 75.7 L 253.1 76.7 L 248.5 76.7 L 248.5 75.7 \" fill=\"#FF0000\"/>\n",
       "<path class=\"atom-4\" d=\"M 276.2 42.1 L 278.0 42.1 L 278.0 55.5 L 276.2 55.5 L 276.2 42.1 M 283.6 42.1 L 286.0 42.1 L 280.8 48.2 L 286.5 55.5 L 284.1 55.5 L 278.4 48.3 L 283.6 42.1 \" fill=\"#000000\"/>\n",
       "<path class=\"atom-4\" d=\"M 287.5 44.5 L 289.9 44.5 L 289.9 42.0 L 290.9 42.0 L 290.9 44.5 L 293.4 44.5 L 293.4 45.4 L 290.9 45.4 L 290.9 47.9 L 289.9 47.9 L 289.9 45.4 L 287.5 45.4 L 287.5 44.5 \" fill=\"#000000\"/>\n",
       "<path class=\"atom-5\" d=\"M 348.5 97.1 L 350.3 97.1 L 350.3 110.5 L 348.5 110.5 L 348.5 97.1 M 355.9 97.1 L 358.4 97.1 L 353.1 103.2 L 358.8 110.5 L 356.4 110.5 L 350.7 103.3 L 355.9 97.1 \" fill=\"#000000\"/>\n",
       "<path class=\"atom-5\" d=\"M 359.9 99.6 L 362.2 99.6 L 362.2 97.1 L 363.3 97.1 L 363.3 99.6 L 365.7 99.6 L 365.7 100.4 L 363.3 100.4 L 363.3 102.9 L 362.2 102.9 L 362.2 100.4 L 359.9 100.4 L 359.9 99.6 \" fill=\"#000000\"/>\n",
       "</svg>"
      ],
      "text/plain": [
       "<IPython.core.display.SVG object>"
      ]
     },
     "metadata": {},
     "output_type": "display_data"
    },
    {
     "name": "stdout",
     "output_type": "stream",
     "text": [
      "--------------------------------------\n",
      "Option 2\n",
      "Reactant 1\n"
     ]
    },
    {
     "data": {
      "image/svg+xml": [
       "<svg xmlns=\"http://www.w3.org/2000/svg\" xmlns:rdkit=\"http://www.rdkit.org/xml\" xmlns:xlink=\"http://www.w3.org/1999/xlink\" version=\"1.1\" baseProfile=\"full\" xml:space=\"preserve\" width=\"600px\" height=\"200px\" viewBox=\"0 0 600 200\">\n",
       "<!-- END OF HEADER -->\n",
       "<rect style=\"opacity:1.0;fill:#FFFFFF;stroke:none\" width=\"600.0\" height=\"200.0\" x=\"0.0\" y=\"0.0\"> </rect>\n",
       "<path class=\"bond-0 atom-0 atom-1\" d=\"M 10.0,109.2 L 54.8,83.4\" style=\"fill:none;fill-rule:evenodd;stroke:#000000;stroke-width:2.0px;stroke-linecap:butt;stroke-linejoin:miter;stroke-opacity:1\"/>\n",
       "<path class=\"bond-1 atom-1 atom-2\" d=\"M 54.8,83.4 L 99.5,109.2\" style=\"fill:none;fill-rule:evenodd;stroke:#000000;stroke-width:2.0px;stroke-linecap:butt;stroke-linejoin:miter;stroke-opacity:1\"/>\n",
       "<path class=\"bond-2 atom-2 atom-3\" d=\"M 99.5,109.2 L 144.3,83.4\" style=\"fill:none;fill-rule:evenodd;stroke:#000000;stroke-width:2.0px;stroke-linecap:butt;stroke-linejoin:miter;stroke-opacity:1\"/>\n",
       "<path class=\"bond-3 atom-3 atom-4\" d=\"M 144.3,83.4 L 165.3,95.5\" style=\"fill:none;fill-rule:evenodd;stroke:#000000;stroke-width:2.0px;stroke-linecap:butt;stroke-linejoin:miter;stroke-opacity:1\"/>\n",
       "<path class=\"bond-3 atom-3 atom-4\" d=\"M 165.3,95.5 L 186.3,107.7\" style=\"fill:none;fill-rule:evenodd;stroke:#A01EEF;stroke-width:2.0px;stroke-linecap:butt;stroke-linejoin:miter;stroke-opacity:1\"/>\n",
       "<path d=\"M 52.5,84.7 L 54.8,83.4 L 57.0,84.7\" style=\"fill:none;stroke:#000000;stroke-width:2.0px;stroke-linecap:butt;stroke-linejoin:miter;stroke-opacity:1;\"/>\n",
       "<path d=\"M 97.3,108.0 L 99.5,109.2 L 101.7,108.0\" style=\"fill:none;stroke:#000000;stroke-width:2.0px;stroke-linecap:butt;stroke-linejoin:miter;stroke-opacity:1;\"/>\n",
       "<path d=\"M 142.0,84.7 L 144.3,83.4 L 145.3,84.0\" style=\"fill:none;stroke:#000000;stroke-width:2.0px;stroke-linecap:butt;stroke-linejoin:miter;stroke-opacity:1;\"/>\n",
       "<path class=\"atom-4\" d=\"M 188.0 101.9 L 190.0 101.9 L 190.0 116.6 L 188.0 116.6 L 188.0 101.9 \" fill=\"#A01EEF\"/>\n",
       "</svg>"
      ],
      "text/plain": [
       "<IPython.core.display.SVG object>"
      ]
     },
     "metadata": {},
     "output_type": "display_data"
    },
    {
     "name": "stdout",
     "output_type": "stream",
     "text": [
      "Reactant 2\n"
     ]
    },
    {
     "data": {
      "image/svg+xml": [
       "<svg xmlns=\"http://www.w3.org/2000/svg\" xmlns:rdkit=\"http://www.rdkit.org/xml\" xmlns:xlink=\"http://www.w3.org/1999/xlink\" version=\"1.1\" baseProfile=\"full\" xml:space=\"preserve\" width=\"600px\" height=\"200px\" viewBox=\"0 0 600 200\">\n",
       "<!-- END OF HEADER -->\n",
       "<rect style=\"opacity:1.0;fill:#FFFFFF;stroke:none\" width=\"600.0\" height=\"200.0\" x=\"0.0\" y=\"0.0\"> </rect>\n",
       "<path class=\"bond-0 atom-0 atom-1\" d=\"M 32.6,111.3 L 88.6,79.0\" style=\"fill:none;fill-rule:evenodd;stroke:#000000;stroke-width:2.0px;stroke-linecap:butt;stroke-linejoin:miter;stroke-opacity:1\"/>\n",
       "<path class=\"bond-1 atom-1 atom-2\" d=\"M 88.6,79.0 L 112.6,92.9\" style=\"fill:none;fill-rule:evenodd;stroke:#000000;stroke-width:2.0px;stroke-linecap:butt;stroke-linejoin:miter;stroke-opacity:1\"/>\n",
       "<path class=\"bond-1 atom-1 atom-2\" d=\"M 112.6,92.9 L 136.6,106.7\" style=\"fill:none;fill-rule:evenodd;stroke:#CCCC00;stroke-width:2.0px;stroke-linecap:butt;stroke-linejoin:miter;stroke-opacity:1\"/>\n",
       "<path d=\"M 85.8,80.6 L 88.6,79.0 L 89.8,79.7\" style=\"fill:none;stroke:#000000;stroke-width:2.0px;stroke-linecap:butt;stroke-linejoin:miter;stroke-opacity:1;\"/>\n",
       "<path class=\"atom-2\" d=\"M 139.5 117.7 Q 139.7 117.7, 140.5 118.1 Q 141.4 118.5, 142.3 118.7 Q 143.3 118.9, 144.2 118.9 Q 145.9 118.9, 146.9 118.1 Q 147.9 117.2, 147.9 115.7 Q 147.9 114.7, 147.4 114.1 Q 146.9 113.5, 146.2 113.2 Q 145.4 112.8, 144.1 112.4 Q 142.5 111.9, 141.5 111.5 Q 140.5 111.0, 139.8 110.0 Q 139.2 109.0, 139.2 107.4 Q 139.2 105.1, 140.7 103.7 Q 142.3 102.2, 145.4 102.2 Q 147.5 102.2, 149.9 103.2 L 149.3 105.2 Q 147.1 104.3, 145.5 104.3 Q 143.7 104.3, 142.7 105.1 Q 141.7 105.8, 141.7 107.1 Q 141.7 108.1, 142.2 108.7 Q 142.7 109.2, 143.5 109.6 Q 144.2 109.9, 145.5 110.3 Q 147.1 110.8, 148.1 111.3 Q 149.1 111.9, 149.8 112.9 Q 150.5 114.0, 150.5 115.7 Q 150.5 118.3, 148.8 119.6 Q 147.1 121.0, 144.3 121.0 Q 142.7 121.0, 141.4 120.6 Q 140.2 120.3, 138.8 119.7 L 139.5 117.7 \" fill=\"#CCCC00\"/>\n",
       "<path class=\"atom-2\" d=\"M 153.0 102.2 L 155.5 102.2 L 155.5 110.0 L 164.9 110.0 L 164.9 102.2 L 167.4 102.2 L 167.4 120.5 L 164.9 120.5 L 164.9 112.0 L 155.5 112.0 L 155.5 120.5 L 153.0 120.5 L 153.0 102.2 \" fill=\"#CCCC00\"/>\n",
       "<path class=\"bond-0 atom-0 atom-1\" d=\"M 269.5,102.4 L 269.5,130.5\" style=\"fill:none;fill-rule:evenodd;stroke:#000000;stroke-width:2.0px;stroke-linecap:butt;stroke-linejoin:miter;stroke-opacity:1\"/>\n",
       "<path class=\"bond-0 atom-0 atom-1\" d=\"M 269.5,130.5 L 269.5,158.5\" style=\"fill:none;fill-rule:evenodd;stroke:#FF0000;stroke-width:2.0px;stroke-linecap:butt;stroke-linejoin:miter;stroke-opacity:1\"/>\n",
       "<path class=\"bond-0 atom-0 atom-1\" d=\"M 279.2,102.4 L 279.2,130.5\" style=\"fill:none;fill-rule:evenodd;stroke:#000000;stroke-width:2.0px;stroke-linecap:butt;stroke-linejoin:miter;stroke-opacity:1\"/>\n",
       "<path class=\"bond-0 atom-0 atom-1\" d=\"M 279.2,130.5 L 279.2,158.5\" style=\"fill:none;fill-rule:evenodd;stroke:#FF0000;stroke-width:2.0px;stroke-linecap:butt;stroke-linejoin:miter;stroke-opacity:1\"/>\n",
       "<path class=\"bond-1 atom-0 atom-2\" d=\"M 274.4,105.2 L 297.1,92.1\" style=\"fill:none;fill-rule:evenodd;stroke:#000000;stroke-width:2.0px;stroke-linecap:butt;stroke-linejoin:miter;stroke-opacity:1\"/>\n",
       "<path class=\"bond-1 atom-0 atom-2\" d=\"M 297.1,92.1 L 319.9,79.0\" style=\"fill:none;fill-rule:evenodd;stroke:#FF0000;stroke-width:2.0px;stroke-linecap:butt;stroke-linejoin:miter;stroke-opacity:1\"/>\n",
       "<path class=\"bond-2 atom-0 atom-3\" d=\"M 274.4,105.2 L 251.7,92.1\" style=\"fill:none;fill-rule:evenodd;stroke:#000000;stroke-width:2.0px;stroke-linecap:butt;stroke-linejoin:miter;stroke-opacity:1\"/>\n",
       "<path class=\"bond-2 atom-0 atom-3\" d=\"M 251.7,92.1 L 228.9,79.0\" style=\"fill:none;fill-rule:evenodd;stroke:#FF0000;stroke-width:2.0px;stroke-linecap:butt;stroke-linejoin:miter;stroke-opacity:1\"/>\n",
       "<path d=\"M 275.5,104.6 L 274.4,105.2 L 273.3,104.6\" style=\"fill:none;stroke:#000000;stroke-width:2.0px;stroke-linecap:butt;stroke-linejoin:miter;stroke-opacity:1;\"/>\n",
       "<path class=\"atom-1\" d=\"M 266.0 169.9 Q 266.0 165.6, 268.2 163.1 Q 270.3 160.6, 274.4 160.6 Q 278.5 160.6, 280.6 163.1 Q 282.8 165.6, 282.8 169.9 Q 282.8 174.4, 280.6 176.9 Q 278.4 179.4, 274.4 179.4 Q 270.4 179.4, 268.2 176.9 Q 266.0 174.4, 266.0 169.9 M 274.4 177.4 Q 277.2 177.4, 278.7 175.5 Q 280.2 173.6, 280.2 169.9 Q 280.2 166.4, 278.7 164.5 Q 277.2 162.7, 274.4 162.7 Q 271.6 162.7, 270.1 164.5 Q 268.6 166.3, 268.6 169.9 Q 268.6 173.6, 270.1 175.5 Q 271.6 177.4, 274.4 177.4 \" fill=\"#FF0000\"/>\n",
       "<path class=\"atom-2\" d=\"M 322.0 73.0 Q 322.0 68.6, 324.2 66.1 Q 326.3 63.7, 330.4 63.7 Q 334.4 63.7, 336.6 66.1 Q 338.8 68.6, 338.8 73.0 Q 338.8 77.4, 336.6 79.9 Q 334.4 82.5, 330.4 82.5 Q 326.4 82.5, 324.2 79.9 Q 322.0 77.4, 322.0 73.0 M 330.4 80.4 Q 333.2 80.4, 334.7 78.5 Q 336.2 76.6, 336.2 73.0 Q 336.2 69.4, 334.7 67.6 Q 333.2 65.7, 330.4 65.7 Q 327.6 65.7, 326.1 67.5 Q 324.6 69.3, 324.6 73.0 Q 324.6 76.7, 326.1 78.5 Q 327.6 80.4, 330.4 80.4 \" fill=\"#FF0000\"/>\n",
       "<path class=\"atom-2\" d=\"M 341.4 66.6 L 347.7 66.6 L 347.7 68.0 L 341.4 68.0 L 341.4 66.6 \" fill=\"#FF0000\"/>\n",
       "<path class=\"atom-3\" d=\"M 210.0 73.0 Q 210.0 68.6, 212.2 66.1 Q 214.3 63.7, 218.4 63.7 Q 222.5 63.7, 224.6 66.1 Q 226.8 68.6, 226.8 73.0 Q 226.8 77.4, 224.6 79.9 Q 222.4 82.5, 218.4 82.5 Q 214.4 82.5, 212.2 79.9 Q 210.0 77.4, 210.0 73.0 M 218.4 80.4 Q 221.2 80.4, 222.7 78.5 Q 224.2 76.6, 224.2 73.0 Q 224.2 69.4, 222.7 67.6 Q 221.2 65.7, 218.4 65.7 Q 215.6 65.7, 214.1 67.5 Q 212.6 69.3, 212.6 73.0 Q 212.6 76.7, 214.1 78.5 Q 215.6 80.4, 218.4 80.4 \" fill=\"#FF0000\"/>\n",
       "<path class=\"atom-3\" d=\"M 229.4 66.6 L 235.7 66.6 L 235.7 68.0 L 229.4 68.0 L 229.4 66.6 \" fill=\"#FF0000\"/>\n",
       "<path class=\"atom-4\" d=\"M 267.3 20.7 L 269.8 20.7 L 269.8 39.0 L 267.3 39.0 L 267.3 20.7 M 277.5 20.7 L 280.9 20.7 L 273.6 29.0 L 281.4 39.0 L 278.2 39.0 L 270.4 29.1 L 277.5 20.7 \" fill=\"#000000\"/>\n",
       "<path class=\"atom-4\" d=\"M 282.9 24.0 L 286.2 24.0 L 286.2 20.6 L 287.6 20.6 L 287.6 24.0 L 290.9 24.0 L 290.9 25.2 L 287.6 25.2 L 287.6 28.6 L 286.2 28.6 L 286.2 25.2 L 282.9 25.2 L 282.9 24.0 \" fill=\"#000000\"/>\n",
       "<path class=\"atom-5\" d=\"M 366.4 96.1 L 368.9 96.1 L 368.9 114.4 L 366.4 114.4 L 366.4 96.1 M 376.6 96.1 L 380.0 96.1 L 372.7 104.4 L 380.5 114.4 L 377.3 114.4 L 369.5 104.5 L 376.6 96.1 \" fill=\"#000000\"/>\n",
       "<path class=\"atom-5\" d=\"M 382.0 99.4 L 385.3 99.4 L 385.3 96.0 L 386.7 96.0 L 386.7 99.4 L 390.0 99.4 L 390.0 100.6 L 386.7 100.6 L 386.7 104.0 L 385.3 104.0 L 385.3 100.6 L 382.0 100.6 L 382.0 99.4 \" fill=\"#000000\"/>\n",
       "</svg>"
      ],
      "text/plain": [
       "<IPython.core.display.SVG object>"
      ]
     },
     "metadata": {},
     "output_type": "display_data"
    },
    {
     "name": "stdout",
     "output_type": "stream",
     "text": [
      "--------------------------------------\n",
      "--------------------------------------\n"
     ]
    }
   ],
   "source": [
    "from rdkit import Chem\n",
    "from itertools import chain\n",
    "from rdkit.Chem import AllChem\n",
    "from rdkit.Chem import Draw\n",
    "from rdkit.Chem.Draw import IPythonConsole\n",
    "IPythonConsole.ipython_useSVG=True\n",
    "\n",
    "def unique_list_reactants (reactants_tuple: tuple) -> float:\n",
    "    '''\n",
    "    A tuple of tuples, containing the reactants (as Mol objects) needed to form the target molecule is received.\n",
    "    This function returns a list of unique lists of the reactants (as Mol objects),\n",
    "    accounting for the symmetry of the molecule.\n",
    "    '''\n",
    "    reactants_list = []\n",
    "    for r in reactants_tuple:   #The tuple of tuples is transformed into a list of lists\n",
    "        rxn_site = []           #of reactants (as String objects, using SMILES)\n",
    "        for molecule in r:\n",
    "            rxn_site.append(Chem.MolToSmiles(molecule))\n",
    "        reactants_list.append(rxn_site)\n",
    "    reactants_set = {tuple(r) for r in reactants_list} #The list is transformed in a set of tuples, to have unique elements\n",
    "    reactants_list_unique = [list(r) for r in reactants_set] #The set of tuples is trnasformed into a list of unique lists\n",
    "    reactants_unique_mol = []\n",
    "    for r in reactants_list_unique: #Here, the list of unique list of reactants (as Mol objects) is created\n",
    "        mols = []\n",
    "        for smiles in r:\n",
    "            mols.append(Chem.MolFromSmiles(smiles))\n",
    "        reactants_unique_mol.append(mols)\n",
    "    return reactants_unique_mol\n",
    "    \n",
    "def C_S_disconnection (mol: Chem.rdchem.Mol) ->int:\n",
    "    '''\n",
    "    The function receives a mol object and verrifes if a C(sp3 hybridized)-S bond is present\n",
    "    If yes, the reactants from which the bond could be formed: \n",
    "    an alkyl iodide and a thiol in the presence of potassium carbonate are displayed and 1 is returned\n",
    "    If the sulfur atom is bonded to two C(sp3 hybridized) atoms, \n",
    "    there are two possible disconnections for each S atom.\n",
    "    If the molecule has a certain symmetry, the number of disconnections is reduced.\n",
    "    If the bond is not present, the function returns 0.\n",
    "    '''\n",
    "    if mol.HasSubstructMatch(Chem.MolFromSmarts('[^3][S]')): #Verifies if the C(sp3 hybridized)-S is present\n",
    "        print(f\"C-S disconection available\")\n",
    "        print (f\"--------------------------------------\")\n",
    "        iodine_smiles = 'I'\n",
    "        potassium_carbonate_smiles ='C(=O)([O-])[O-].[K+].[K+]'\n",
    "        iodine = Chem.MolFromSmiles(iodine_smiles)\n",
    "        potassium_carbonate = Chem.MolFromSmiles(potassium_carbonate_smiles)\n",
    "        rxn = AllChem.ReactionFromSmarts('[C^3:1][S:2].[I:3]>>[C:1][I:3].[S:2]') #Searches for the bond pattern and returns reactants\n",
    "        reactants = unique_list_reactants(rxn.RunReactants((mol,iodine )))       #to make the bond in a list of lists; each list = reactive site\n",
    "        opt = 1 #Parameter to count the number of possible reactants that form C(sp3 hybridized)-S bonds\n",
    "        for r in reactants:\n",
    "            print(f\"Option {opt}\")\n",
    "            reactant_1 = [r[0]]\n",
    "            reactant_2 = [r[1], potassium_carbonate]\n",
    "            print(f\"Reactant 1\")\n",
    "            display(Draw.MolsToGridImage(reactant_1))\n",
    "            print(f\"Reactant 2\")\n",
    "            display(Draw.MolsToGridImage(reactant_2))\n",
    "            opt += 1\n",
    "            print (f\"--------------------------------------\")\n",
    "        print(f\"--------------------------------------\")\n",
    "        return 1       \n",
    "    else:\n",
    "        return 0\n",
    "\n",
    "def disconnections (mol_smiles):\n",
    "    '''\n",
    "    This function takes a SMILE of a molecule and\n",
    "    displays all the known disconnections.\n",
    "    '''\n",
    "    mol = Chem.MolFromSmiles(mol_smiles) #Transform SMILE in mol object\n",
    "    print (f\"The molecule inserted looks like this:\")\n",
    "    display(mol)\n",
    "    print (f\"--------------------------------------\")\n",
    "    print (f\"--------------------------------------\")\n",
    "    sum = 0 #Parameter that keeps track of the number of the types of disconnections found in the molecule\n",
    "    known_disc = [C_S_disconnection]\n",
    "    for disc in known_disc:\n",
    "        sum += disc(mol)\n",
    "    if not sum: #In case no disconnection was found\n",
    "        print(f\"The molecule contains no known disconnections\")\n",
    "\n",
    "def main ():\n",
    "    mol_smiles = 'CCSCCCC'\n",
    "    disconnections (mol_smiles)\n",
    "\n",
    "if __name__ == '__main__':\n",
    "    main()"
   ]
  },
  {
   "cell_type": "code",
   "execution_count": null,
   "id": "4a99dbb7-1e4d-49e6-bfd7-d3c15ac0fad5",
   "metadata": {},
   "outputs": [],
   "source": []
  }
 ],
 "metadata": {
  "kernelspec": {
   "display_name": "Python 3 (ipykernel)",
   "language": "python",
   "name": "python3"
  },
  "language_info": {
   "codemirror_mode": {
    "name": "ipython",
    "version": 3
   },
   "file_extension": ".py",
   "mimetype": "text/x-python",
   "name": "python",
   "nbconvert_exporter": "python",
   "pygments_lexer": "ipython3",
   "version": "3.10.13"
  }
 },
 "nbformat": 4,
 "nbformat_minor": 5
}
