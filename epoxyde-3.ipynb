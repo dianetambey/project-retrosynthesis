{
 "cells": [
  {
   "cell_type": "code",
   "execution_count": null,
   "id": "11c53faf-bbf9-4ceb-88a7-368b706da4b8",
   "metadata": {},
   "outputs": [],
   "source": [
    "def epoxyde_disconnection (mol: Chem.rdchem.Mol) ->int:\n",
    "\n",
    "'''\n",
    "    The function receives a mol object and verrifes if a O-C(sp2 hybridized)-C(sp2 hybridized)-N bond is present\n",
    "    If yes, the reactants from which the bond could be formed: \n",
    "    an epoxyde and an amine in the presence of NH3 (l) and NaNH2 are displayed and 1 is returned\n",
    "    If the O or N is bonded to two identical bond matches, \n",
    "    there are two possible disconnections for each O or N atom.\n",
    "    If the molecule has a certain symmetry, the number of disconnections is reduced.\n",
    "    If the bond is not present, the function returns 0.\n",
    "    '''\n",
    "    \n",
    "    if mol.HasSubstructMatch(Chem.MolFromSmarts('O[C^3][C^3]N')):\n",
    "        print (f\"Epoxyde disconnection available\")\n",
    "        print (f\"--------------------------------------\")\n",
    "        NH3_smiles = 'N'\n",
    "        NaNH2_smiles='[NH2-].[Na+]'\n",
    "        NH3 = Chem.MolFromSmiles(NH3_smiles)\n",
    "        NaNH2 = Chem.MolFromSmiles(NaNH2_smiles)\n",
    "        rxn = AllChem.ReactionFromSmarts('[O:1][C^3:2][C^3:3][N:4]>>[O:1]1[C^3:2][C^3:3]1.[N:4]') #Breaks bond and creates epoxyde\n",
    "        reactants = unique_list_reactants(rxn.RunReactants((mol)))#to make the bond in a list of lists; each list = reactive site\n",
    "        opt = 1 #Parameter to count the number of possible reactants that form C(sp3 hybridized)-S bonds\n",
    "        for r in reactants: #Prints the reactants\n",
    "            print(f\"Option {opt}\")\n",
    "            reactant_1 = [r[0]]\n",
    "            reactant_2 = [r[1]]\n",
    "            print(f\"Reactant 1\")\n",
    "            display(Draw.MolsToGridImage(reactant_1))\n",
    "            print(f\"Reactant 2\")\n",
    "            display(Draw.MolsToGridImage(reactant_2))\n",
    "            opt += 1\n",
    "            print (f\"--------------------------------------\")\n",
    "        print(f\"--------------------------------------\")\n",
    "        print (f\"This product needs NH3(l) and [NH2-].[Na+] to realise the reaction\"\n",
    "               f\" in order to obtain the target molecule\")\n",
    "        print (f\"--------------------------------------\")\n",
    "        return 1\n",
    "    return 0\n"
   ]
  }
 ],
 "metadata": {
  "kernelspec": {
   "display_name": "Python 3 (ipykernel)",
   "language": "python",
   "name": "python3"
  },
  "language_info": {
   "codemirror_mode": {
    "name": "ipython",
    "version": 3
   },
   "file_extension": ".py",
   "mimetype": "text/x-python",
   "name": "python",
   "nbconvert_exporter": "python",
   "pygments_lexer": "ipython3",
   "version": "3.10.13"
  }
 },
 "nbformat": 4,
 "nbformat_minor": 5
}
